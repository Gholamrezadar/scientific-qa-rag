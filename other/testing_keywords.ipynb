{
 "cells": [
  {
   "cell_type": "code",
   "execution_count": 6,
   "id": "fd01099d",
   "metadata": {},
   "outputs": [
    {
     "name": "stdout",
     "output_type": "stream",
     "text": [
      "Test case: Keywords: apple, banana, orange\n",
      "Keywords: ['apple', 'banana', 'orange']\n",
      "- - - - - - - - - - - - - - - - - - - - - - - - - - - - - - - - - - - - - - - - \n",
      "Test case: Keywords:\n",
      "1. apple\n",
      "2. banana\n",
      "3. orange\n",
      "Keywords: ['apple', 'banana', 'orange']\n",
      "- - - - - - - - - - - - - - - - - - - - - - - - - - - - - - - - - - - - - - - - \n",
      "Test case: Keywords:\n",
      "apple\n",
      "banana\n",
      "orange\n",
      "Keywords: ['apple', 'banana', 'orange']\n",
      "- - - - - - - - - - - - - - - - - - - - - - - - - - - - - - - - - - - - - - - - \n",
      "Test case: apple, banana, orange\n",
      "Keywords: ['apple', 'banana', 'orange']\n",
      "- - - - - - - - - - - - - - - - - - - - - - - - - - - - - - - - - - - - - - - - \n",
      "Test case: This is a sentence without keywords.\n",
      "Keywords: ['This is a sentence without keywords']\n",
      "- - - - - - - - - - - - - - - - - - - - - - - - - - - - - - - - - - - - - - - - \n"
     ]
    }
   ],
   "source": [
    "from src.utils import extract_keywords_from_answer\n",
    "\n",
    "# Test cases\n",
    "test_cases = [\n",
    "    # Case 1: Comma-separated keywords\n",
    "    \"Keywords: apple, banana, orange\",\n",
    "\n",
    "    # Case 2: Numbered or bulleted lists\n",
    "    \"Keywords:\\n1. apple\\n2. banana\\n3. orange\",\n",
    "\n",
    "    # Case 3: Line-separated keywords\n",
    "    \"Keywords:\\napple\\nbanana\\norange\",\n",
    "\n",
    "    \"apple, banana, orange\",\n",
    "\n",
    "    # Case 5: No keywords\n",
    "    \"This is a sentence without keywords.\",\n",
    "]\n",
    "\n",
    "for test_case in test_cases:\n",
    "    print(f\"Test case: {test_case}\")\n",
    "    keywords = extract_keywords_from_answer(test_case)\n",
    "    print(f\"Keywords: {keywords}\")\n",
    "    print('- '*40)"
   ]
  }
 ],
 "metadata": {
  "kernelspec": {
   "display_name": "Python 3",
   "language": "python",
   "name": "python3"
  },
  "language_info": {
   "codemirror_mode": {
    "name": "ipython",
    "version": 3
   },
   "file_extension": ".py",
   "mimetype": "text/x-python",
   "name": "python",
   "nbconvert_exporter": "python",
   "pygments_lexer": "ipython3",
   "version": "3.13.2"
  }
 },
 "nbformat": 4,
 "nbformat_minor": 5
}
