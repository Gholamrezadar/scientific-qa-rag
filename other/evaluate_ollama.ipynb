{
 "cells": [
  {
   "cell_type": "markdown",
   "id": "69bb0e4b",
   "metadata": {},
   "source": [
    "# Evaluating Ollama models"
   ]
  },
  {
   "cell_type": "code",
   "execution_count": 1,
   "id": "3dfd25ce",
   "metadata": {},
   "outputs": [],
   "source": [
    "correct_answers = ['C', 'B', 'B', 'A', 'E', 'E', 'D', 'B', 'B', 'A', 'C', 'A', 'D', 'C', 'C', 'D', 'C', 'A', 'B', 'C', 'B', 'E', 'B', 'E', 'E', 'B', 'C', 'E', 'D', 'E', 'A', 'A', 'B', 'B', 'B', 'C', 'E', 'D', 'C', 'D', 'E', 'B', 'E', 'E', 'B', 'C', 'C', 'E', 'A', 'D']"
   ]
  },
  {
   "cell_type": "code",
   "execution_count": 17,
   "id": "556154d2",
   "metadata": {},
   "outputs": [
    {
     "name": "stdout",
     "output_type": "stream",
     "text": [
      "Answer: C\n"
     ]
    },
    {
     "data": {
      "text/plain": [
       "['The context describes stars as being on a \"main sequence.\" This is a fundamental concept in astronomy. Let’s analyze the options:\\n\\n*   **Choice A) The main sequence is a type of galaxy that contains a large number of stars.** This is incorrect. The main sequence is a specific *type* of star.\\n*   **Choice B) The main sequence is a type of black hole that is formed from the collapse of a massive star.** This is completely unrelated to the definition of the main sequence.\\n*   **Choice C) The main sequence is a continuous and distinctive band of stars that appears on plots of stellar color versus brightness. Stars on this band are known as main-sequence stars or dwarf stars.** This accurately describes the defining characteristic of the main sequence.\\n*   **Choice D) The main sequence is a group of planets that orbit around a star in a solar system.** This is not the primary focus of the question.\\n*   **Choice E) The main sequence is a type of nebula that is formed from the explosion of a supernova.** This is a related phenomenon, but not the core definition.\\n\\nTherefore, the best answer is C.\\n\\nAnswer: C']"
      ]
     },
     "execution_count": 17,
     "metadata": {},
     "output_type": "execute_result"
    }
   ],
   "source": [
    "from src.llm import get_answers_by_model\n",
    "\n",
    "gemma_3_1b_answers = get_answers_by_model('gemma3:1b', dataset_file='data/train_data.csv', num_questions=1)\n",
    "gemma_3_1b_answers"
   ]
  },
  {
   "cell_type": "code",
   "execution_count": 3,
   "id": "ce31362a",
   "metadata": {},
   "outputs": [
    {
     "name": "stdout",
     "output_type": "stream",
     "text": [
      "Let's analyze the context to determine the correct answer.\n",
      "\n",
      "The context discusses the “ultraviolet catastrophe” as a problem in physics, specifically concerning the behavior of formulas for higher frequencies. This suggests it’s a theoretical issue.\n",
      "\n",
      "Now let’s examine the choices:\n",
      "\n",
      "*   **Choice A) It is a phenomenon that occurs only in multi-mode vibration:** This is a possible explanation, but it doesn't directly relate to the core of the catastrophe.\n",
      "*   **Choice B) It is the misbehavior of a formula for higher frequencies:** This is a strong contender. The catastrophe is a specific problem with formulas and their application.\n",
      "*   **Choice C) It is the standing wave of a string in harmonic resonance:** This describes a different phenomenon – a standing wave – and isn't the core of the catastrophe.\n",
      "*   **Choice D) It is a flaw in classical physics that results in the misallocation of energy:** This is a possible explanation, but it's not the primary focus of the catastrophe as described in the context.\n",
      "*   **Choice E) It is a disproven theory about the distribution of electromagnetic radiation:** This is unlikely to be the cause of the catastrophe.\n",
      "\n",
      "Considering the context's focus on formulas and their misbehavior, the best explanation is that it's a problem with the application of formulas to higher frequencies. Therefore, the correct answer is Choice B.\n",
      "\n",
      "Answer: B\n"
     ]
    }
   ],
   "source": [
    "print(gemma_3_1b_answers[1])"
   ]
  },
  {
   "cell_type": "code",
   "execution_count": 4,
   "id": "bae84735",
   "metadata": {},
   "outputs": [],
   "source": [
    "%load_ext autoreload\n",
    "%autoreload 2"
   ]
  },
  {
   "cell_type": "code",
   "execution_count": 5,
   "id": "b174a5c7",
   "metadata": {},
   "outputs": [],
   "source": [
    "from src.utils import extract_answered_choice\n",
    "gemma_3_1b_choices = []\n",
    "for answer in gemma_3_1b_answers:\n",
    "    gemma_3_1b_choices.append(extract_answered_choice(answer))"
   ]
  },
  {
   "cell_type": "code",
   "execution_count": 6,
   "id": "217b3dc1",
   "metadata": {},
   "outputs": [
    {
     "name": "stdout",
     "output_type": "stream",
     "text": [
      "['C', 'B', 'A', 'A']\n"
     ]
    }
   ],
   "source": [
    "print(gemma_3_1b_choices)"
   ]
  },
  {
   "cell_type": "code",
   "execution_count": 7,
   "id": "77ede6fe",
   "metadata": {},
   "outputs": [
    {
     "data": {
      "text/plain": [
       "0.75"
      ]
     },
     "execution_count": 7,
     "metadata": {},
     "output_type": "execute_result"
    }
   ],
   "source": [
    "from src.eval import evaluate_answer_list\n",
    "\n",
    "evaluate_answer_list(gemma_3_1b_choices, correct_answers)"
   ]
  },
  {
   "cell_type": "code",
   "execution_count": 1,
   "id": "bc0107e7",
   "metadata": {},
   "outputs": [
    {
     "data": {
      "text/plain": [
       "['C',\n",
       " 'B',\n",
       " 'B',\n",
       " 'A',\n",
       " 'E',\n",
       " 'E',\n",
       " 'D',\n",
       " 'B',\n",
       " 'B',\n",
       " 'A',\n",
       " 'C',\n",
       " 'A',\n",
       " 'D',\n",
       " 'C',\n",
       " 'C',\n",
       " 'D',\n",
       " 'C',\n",
       " 'A',\n",
       " 'B',\n",
       " 'C',\n",
       " 'B',\n",
       " 'E',\n",
       " 'B',\n",
       " 'E',\n",
       " 'E',\n",
       " 'B',\n",
       " 'C',\n",
       " 'E',\n",
       " 'D',\n",
       " 'E',\n",
       " 'A',\n",
       " 'A',\n",
       " 'B',\n",
       " 'B',\n",
       " 'B',\n",
       " 'C',\n",
       " 'E',\n",
       " 'D',\n",
       " 'C',\n",
       " 'D',\n",
       " 'E',\n",
       " 'B',\n",
       " 'E',\n",
       " 'E',\n",
       " 'B',\n",
       " 'C',\n",
       " 'C',\n",
       " 'E',\n",
       " 'A',\n",
       " 'D']"
      ]
     },
     "execution_count": 1,
     "metadata": {},
     "output_type": "execute_result"
    }
   ],
   "source": [
    "from src.utils import get_correct_answers\n",
    "correct_answers = get_correct_answers('data/train_data.csv')\n",
    "correct_answers"
   ]
  },
  {
   "cell_type": "code",
   "execution_count": null,
   "id": "2d6cfa13",
   "metadata": {},
   "outputs": [],
   "source": [
    "# from typing import List\n",
    "\n",
    "\n",
    "# def evaluate_ollama_model(model_name: str, dataset_file: str, num_questions: int = -1) -> (List[str], List[str], float):\n",
    "#     '''Evaluates the accuracy of the answer list.\n",
    "\n",
    "#     Args:\n",
    "#         model_name (str): The name of the model to use.\n",
    "#         dataset_file (str): The file containing the dataset.\n",
    "#         num_questions (int, optional): The number of questions to use. Defaults to -1, which means all questions.\n",
    "\n",
    "#     Returns:\n",
    "#         List[str]: The ABCDE answer_list.\n",
    "#         List[str]: The raw model_responses.\n",
    "#         float: The accuracy of the answer list.\n",
    "#     '''\n",
    "\n",
    "#     from src.llm import get_answers_by_model\n",
    "#     from src.utils import extract_answered_choice\n",
    "#     from src.eval import evaluate_answer_list\n",
    "#     from src.utils import get_correct_answers\n",
    "\n",
    "#     correct_answers = get_correct_answers(dataset_file)\n",
    "#     model_responses = get_answers_by_model(model_name, dataset_file, num_questions)\n",
    "#     answer_list = [extract_answered_choice(response) for response in model_responses]\n",
    "#     accuracy = evaluate_answer_list(answer_list, correct_answers)\n",
    "#     return answer_list, model_responses, accuracy"
   ]
  },
  {
   "cell_type": "code",
   "execution_count": null,
   "id": "b96ce5f3",
   "metadata": {},
   "outputs": [
    {
     "name": "stdout",
     "output_type": "stream",
     "text": [
      "Answer: C\n",
      "C\n",
      "Okay, let’s analyze this question and the choices.\n",
      "\n",
      "The question asks for the *main sequence* in astronomy. The main sequence refers to a specific type of star formation process.\n",
      "\n",
      "Now let’s examine each choice:\n",
      "\n",
      "*   **Choice A) The main sequence is a type of galaxy that contains a large number of stars.** – This is incorrect. The main sequence is a *region* of space where stars are forming and existing. Galaxies are much larger structures.\n",
      "\n",
      "*   **Choice B) The main sequence is a type of black hole that is formed from the collapse of a massive star.** – This is incorrect. Black holes are formed from the collapse of massive stars, not the main sequence.\n",
      "\n",
      "*   **Choice C) The main sequence is a continuous and distinctive band of stars that appears on plots of stellar color versus brightness. Stars on this band are known as main-sequence stars or dwarf stars.** – This is a good description of the main sequence. It accurately describes the characteristics of this particular star formation region.\n",
      "\n",
      "*   **Choice D) The main sequence is a group of planets that orbit around a star in a solar system.** – This is incorrect. The main sequence is a region of space where stars are forming and existing, not a group of planets.\n",
      "\n",
      "*   **Choice E) The main sequence is a type of nebula that is formed from the explosion of a supernova.** – This is incorrect. Nebulae are clouds of gas and dust, not stars.\n",
      "\n",
      "Based on this analysis, **Choice C** is the most accurate and complete description of the main sequence.\n",
      "\n",
      "Answer: C\n",
      "1.0\n"
     ]
    }
   ],
   "source": [
    "from src.eval import evaluate_ollama_model\n",
    "answer_list, model_responses, accuracy = evaluate_ollama_model(model_name=\"gemma3:1b\", dataset_file=\"data/train_data.csv\", num_questions=1)\n",
    "print(answer_list[0])\n",
    "print(model_responses[0])\n",
    "print(accuracy)"
   ]
  },
  {
   "cell_type": "code",
   "execution_count": null,
   "id": "86e70756",
   "metadata": {},
   "outputs": [
    {
     "name": "stdout",
     "output_type": "stream",
     "text": [
      "Answer: C\n",
      "Answer: D\n",
      "Answer: A\n",
      "Answer: A\n",
      "Answer: B\n",
      "Answer: E\n",
      "Answer: C\n",
      "Answer: D\n",
      "Answer: A\n",
      "Answer: A\n",
      "Answer: A\n",
      "Answer: A\n",
      "Answer: A\n",
      "Answer: C\n",
      "Answer: A\n",
      "Answer: B\n",
      "Answer: C\n",
      "Answer: A\n",
      "Answer: B\n",
      "Answer: A\n",
      "Answer: A\n",
      "Answer: A\n",
      "Answer: C\n",
      "Answer: B\n",
      "Answer: C\n",
      "Answer: B\n",
      "Answer: A\n",
      "Answer: A\n",
      "Answer: A\n",
      "Answer: E\n",
      "Answer: A\n",
      "Answer: A\n",
      "Answer: B\n",
      "Answer: B\n",
      "Answer: A\n",
      "Answer: A\n",
      "Answer: B\n",
      "Answer: A\n",
      "Answer: A\n",
      "Answer: C\n",
      "Answer: A\n",
      "Answer: A\n",
      "Answer: A\n",
      "Answer: C\n",
      "Answer: C\n",
      "Answer: C\n",
      "Answer: B\n",
      "Answer: A\n",
      "Answer: A\n",
      "Answer: A\n"
     ]
    },
    {
     "data": {
      "text/plain": [
       "(['C',\n",
       "  'D',\n",
       "  'A',\n",
       "  'A',\n",
       "  'B',\n",
       "  'E',\n",
       "  'C',\n",
       "  'D',\n",
       "  'A',\n",
       "  'A',\n",
       "  'A',\n",
       "  'A',\n",
       "  'A',\n",
       "  'C',\n",
       "  'A',\n",
       "  'B',\n",
       "  'C',\n",
       "  'A',\n",
       "  'B',\n",
       "  'A',\n",
       "  'A',\n",
       "  'A',\n",
       "  'C',\n",
       "  'B',\n",
       "  'C',\n",
       "  'B',\n",
       "  'A',\n",
       "  'A',\n",
       "  'A',\n",
       "  'E',\n",
       "  'A',\n",
       "  'A',\n",
       "  'B',\n",
       "  'B',\n",
       "  'A',\n",
       "  'A',\n",
       "  'B',\n",
       "  'A',\n",
       "  'A',\n",
       "  'C',\n",
       "  'A',\n",
       "  'A',\n",
       "  'A',\n",
       "  'C',\n",
       "  'C',\n",
       "  'C',\n",
       "  'B',\n",
       "  'A',\n",
       "  'A',\n",
       "  'A'],\n",
       " ['The context discusses stars and their behavior. The question asks about the “main sequence.” Option C describes the main sequence as a continuous and distinctive band of stars, which is precisely what the context defines. Option D discusses planets, which isn’t relevant to the question. Option E discusses nebulae, which is unrelated. Therefore, the correct answer is C.\\n\\nAnswer: C',\n",
       "  \"Let's analyze the context to determine the correct answer.\\n\\nThe question asks for the “ultraviolet catastrophe.” This term is associated with a specific problem in physics, particularly concerning the behavior of waves and energy in a system with multiple frequencies. The context discusses this problem as a flaw in classical physics.\\n\\nConsidering the options:\\n\\n*   **Choice A) It is a phenomenon that occurs only in multi-mode vibration:** This is a relevant aspect of the ultraviolet catastrophe, as it involves complex wave behavior.\\n*   **Choice B) It is the misbehavior of a formula for higher frequencies:** This describes a specific mathematical issue, not the catastrophe itself.\\n*   **Choice C) It is the standing wave of a string in harmonic resonance:** This is a related concept, but doesn't fully capture the core of the ultraviolet catastrophe.\\n*   **Choice D) It is a flaw in classical physics that results in the misallocation of energy:** This accurately describes the problem's origin.\\n*   **Choice E) It is a disproven theory about the distribution of electromagnetic radiation:** This is unrelated to the ultraviolet catastrophe.\\n\\nTherefore, the most accurate and direct explanation of the ultraviolet catastrophe is that it's a flaw in classical physics that leads to misallocation of energy.\\n\\nAnswer: D\",\n",
       "  'The context describes the Carnot engine as a theoretical engine operating in the limiting mode of extreme speed, representing the theoretical maximum efficiency of a heat engine between different thermal reservoirs. This definition directly aligns with Choice A.\\n\\nAnswer: A',\n",
       "  'The context describes accelerator-based light-ion fusion as a technique that uses particle accelerators to induce particle kinetic energies sufficient for fusion. It highlights its relative ease of implementation and efficiency.\\n\\nChoice A accurately reflects this description.\\n\\nAnswer: A',\n",
       "  'The context describes a \"coffee ring\" as a pattern left by a particle-laden liquid after it’s spilled. This directly aligns with Choice B, which defines a ring-like deposit.\\n\\nAnswer: B',\n",
       "  'The context describes water hammer as a phenomenon caused by the sudden stop of water flow in pipelines, leading to pressure surges. Option E accurately describes this phenomenon – the loud banging noise. Therefore, the correct answer is E.\\n\\nAnswer: E',\n",
       "  'The context discusses the applications of memristors in various fields, including computing, neural networks, and sensor technology. Of the choices provided, the most directly relevant applications are within computing, neural networks, and control systems. Option C, “Memristor has applications in the production of solar panels, wind turbines, and hydroelectric power plants,” is not mentioned in the context. Options A, B, D, and E are all quite broad and don’t specifically relate to the application of memristors. Therefore, the most accurate application of memristors, based on the provided information, is within computing and neural networks.\\n\\nAnswer: C',\n",
       "  \"Let's analyze the context to determine the most accurate inference about electronic entropy.\\n\\nThe context discusses densities of states at the Fermi level.  Density of states is directly related to entropy.  Higher density of states generally means more energy levels available, and thus, higher entropy.\\n\\nNow let's evaluate each choice:\\n\\n*   **Choice A:** Incorrect.  The context doesn't directly state that insulators and metals have *zero* density of states.\\n*   **Choice B:** Incorrect. The context doesn't provide information about the temperature.\\n*   **Choice C:** Incorrect. The context doesn't provide information about the temperature.\\n*   **Choice D:** Correct. The context emphasizes that density of states *determines* entropy, and the context doesn't provide any information about the temperature.\\n*   **Choice E:** Correct. The context states that higher density of states *generally* leads to higher entropy.\\n\\nTherefore, the most accurate inference is that insulators and metals have varying densities of states at the Fermi level, and thus, their electronic entropy may or may not be proportional to the temperature and density of states at the Fermi level.\\n\\nAnswer: D\",\n",
       "  \"Let's analyze the question and the context. The question asks for the difference between illuminance and luminance.\\n\\nThe context describes them as:\\n* Illuminance: Amount of light *absorbed* by a surface.\\n* Luminance: Amount of light *reflected* by a surface.\\n\\nChoice A correctly states that illuminance is absorbed, while luminance is reflected.\\nChoice B states that illuminance is falling on a surface, while luminance is emitted.\\nChoice C describes a different concept – concentrated light.\\nChoice D states the opposite – emitted light.\\nChoice E states the opposite – absorbed light.\\n\\nTherefore, the correct answer is A.\\n\\nAnswer: A\",\n",
       "  'The context describes classical mechanics as relating to macroscopic objects and using concepts like mass, acceleration, and force. It emphasizes a three-dimensional Euclidean space and mathematical concepts. Choice A best aligns with this description.\\n\\nAnswer: A',\n",
       "  \"Let's analyze the context to determine the correct answer.\\n\\nThe context discusses the canonical quantization method and its connection to Poisson brackets. The Peierls bracket is a key component of this method. It’s used to convert the quotient algebra into a Poisson algebra.\\n\\nConsidering the options:\\n\\n*   **Choice A) The Peierls bracket is a mathematical symbol used to represent the Poisson algebra in the canonical quantization method.** This is a direct and accurate description of the Peierls bracket's role.\\n*   **Choice B) The Peierls bracket is a mathematical tool used to generate the Hamiltonian in the canonical quantization method.** While the Peierls bracket *does* contribute to the Hamiltonian, its primary function is to convert the quotient algebra into a Poisson algebra, not generate it directly.\\n*   **Choice C) The Peierls bracket is a Poisson bracket derived from the action in the canonical quantization method that converts the quotient algebra into a Poisson algebra.** This is a more precise description of its function.\\n*   **Choice D) The Peierls bracket is a mathematical symbol used to represent the quotient algebra in the canonical quantization method.** This is incorrect.\\n*   **Choice E) The Peierls bracket is a mathematical tool used to generate the Euler-Lagrange equations in the canonical quantization method.** This is not the Peierls bracket's purpose.\\n\\nTherefore, the most accurate and complete description of the Peierls bracket is that it's a mathematical tool used to convert the quotient algebra into a Poisson algebra.\\n\\nAnswer: A\",\n",
       "  'The context discusses cosmic inflation and the metric expansion of space. These are central to the theory. “Inflaton” and “metric expansion” are key concepts directly related to these topics. “Scalar” is not relevant. “Conformal cyclic cosmology” is a specific model, not a name for the field. Therefore, the most accurate and encompassing term is “Inflaton.”\\n\\nAnswer: A',\n",
       "  'The context discusses the effect of general relativity on mass and momentum, specifically focusing on the tiny and difficult-to-confirm nature of the phenomenon. Choice A accurately describes the definition of linear frame dragging.\\n\\nAnswer: A',\n",
       "  'The context discusses the Ozma Problem as a complex and multifaceted issue concerning chirality, symmetry, and the fundamental nature of the universe. Options C, D, and E all relate to physics and cosmology, but the context specifically highlights the “mirror asymmetry” and its implications, suggesting a deeper, more fundamental investigation. Choice A is about biochemistry, which isn’t the primary focus of the Ozma Problem.\\n\\nTherefore, the most accurate answer is C.\\n\\nAnswer: C',\n",
       "  \"Let's analyze the context to determine the correct answer.\\n\\nThe context discusses the thylakoid membranes of plants and their function. Fatty-acyl disorders are a known problem that affects membrane lipid fatty-acyl chains.  The key point is that these disorders *reduce* fluidity.\\n\\nNow let's evaluate each choice:\\n\\n*   **Choice A:** This aligns with the context – reducing fluidity is a consequence of the disorder.\\n*   **Choice B:** This is incorrect; the context doesn't mention cold temperatures.\\n*   **Choice C:** This is incorrect; the context states the disorder *reduces* fluidity, not allows for fluidity.\\n*   **Choice D:** While the context *does* mention a phase transition, it doesn't focus on the *cause* of that phase transition.\\n*   **Choice E:** This is incorrect; the context describes a problem, not a restriction.\\n\\nTherefore, the best answer is A.\\n\\nAnswer: A\",\n",
       "  \"Let's analyze the context to determine the correct answer.\\n\\nThe context discusses “leap seconds” and the relationship between UTC and UT1. Leap seconds are corrections to UTC to keep it synchronized with a different time standard. The key point is that UTC is *slightly* behind UT1.\\n\\nChoice A) UTC and Universal Time (UT1) are identical time scales that are used interchangeably in science and engineering. – This is incorrect. UTC and UT1 are not identical.\\n\\nChoice B) UTC is a time scale that is completely independent of Universal Time (UT1). UTC is kept within 0.9 second of UT1 by the introduction of one-second steps to UTC, the “leap second”. – This is a correct explanation of the “leap second” process. UTC is *slightly* behind UT1, and the “leap second” is a correction to address this difference.\\n\\nChoice C) UTC is an atomic time scale designed to approximate Universal Time (UT1), but it differs from UT1 by a non-integral number of seconds. UTC is kept within 0.9 second of UT1 by the introduction of one-second steps to UTC, the “leap second”. – This is also correct.\\n\\nChoice D) UTC is an atomic time scale designed to approximate Universal Time (UT1), but it differs from UT1 by an integral number of seconds. UTC is kept within 0.9 second of UT1 by the introduction of one-second steps to UTC, the “leap second”. – This is incorrect.\\n\\nChoice E) UTC is a time scale that is based on the irregularities in Earth's rotation and is completely independent of Universal Time (UT1). – This is incorrect.\\n\\nTherefore, the best answer is B.\\n\\nAnswer: B\",\n",
       "  'The context describes a “system of gravitationally bound non-stellar objects in or out of orbit around a star or star system.” This definition directly points to a planetary system. Let’s analyze the options:\\n\\n*   **Choice A) A system of planets that are all located in the same solar system.** This is too narrow – it focuses on a specific solar system.\\n*   **Choice B) A system of planets that are all the same size and shape.** This is irrelevant to the definition of a planetary system.\\n*   **Choice C) Any set of gravitationally bound non-stellar objects in or out of orbit around a star or star system.** This is the most accurate description of a planetary system.\\n*   **Choice D) A system of planets that are all located in the same galaxy.** Galaxies are vast collections of stars, not planets.\\n*   **Choice E) A system of planets that are all made of gas.** Planets are primarily composed of rock and metal.\\n\\nTherefore, the best answer is C.\\n\\nAnswer: C',\n",
       "  \"Let's analyze the question and the context. The question asks about the relationship between chemical potential and quarks/antiquarks. The context describes chemical potential as a measure of the imbalance between quarks and antiquarks.\\n\\nChoice A accurately describes this relationship – higher chemical potential favors quarks.\\n\\nChoice B is incorrect because the context emphasizes the imbalance.\\n\\nChoice C is incorrect because the context highlights a bias toward quarks.\\n\\nChoice D is incorrect because the context focuses on the imbalance, not density.\\n\\nChoice E is incorrect because the context describes the imbalance, not density.\\n\\nTherefore, the correct answer is A.\\n\\nAnswer: A\",\n",
       "  'Let\\'s analyze the question and the context. The question asks why stars form exclusively within molecular clouds. The context describes molecular clouds as the birthplace of stars. Molecular clouds are characterized by extremely low temperatures and high densities, which are crucial for the collapse of gas and dust into stars.\\n\\nNow let\\'s evaluate the choices:\\n\\n*   **Choice A) The formation of stars occurs exclusively outside of molecular clouds.** This is incorrect. The context explicitly states that molecular clouds are the primary environment for star formation.\\n*   **Choice B) The low temperatures and high densities of molecular clouds cause the gravitational force to exceed the internal pressures that are acting \"outward\" to prevent a collapse.** This is a valid explanation, but it doesn\\'t explain *why* molecular clouds are the right place.\\n*   **Choice C) The low temperatures and low densities of molecular clouds cause the gravitational force to be less than the internal pressures that are acting \"outward\" to prevent a collapse.** This is incorrect. The opposite is true – the low density and temperature are *essential* for gravitational collapse.\\n*   **Choice D) The high temperatures and low densities of molecular clouds cause the gravitational force to exceed the internal pressures that are acting \"outward\" to prevent a collapse.** This is incorrect. High temperatures and low densities *facilitate* collapse, not prevent it.\\n*   **Choice E) The high temperatures and high densities of molecular clouds cause the gravitational force to be less than the internal pressures that are acting \"outward\" to prevent a collapse.** This is incorrect. High temperatures and densities *increase* the gravitational force.\\n\\nConsidering all of this, the most accurate and direct explanation is that molecular clouds are the ideal conditions for gravitational collapse to initiate star formation.\\n\\nAnswer: B',\n",
       "  'The context describes a thought experiment involving a demon and molecules. The demon’s actions are designed to violate the second law of thermodynamics – which states that entropy (disorder) always increases in a closed system – by creating a local temperature difference. Choice A most directly reflects this concept.\\n\\nAnswer: A',\n",
       "  'The context discusses the four qualitative levels of crystallinity. It states that geologists describe these levels as holocrystalline, hypocrystalline, hypercrystalline, and holohyaline. Therefore, the correct answer is Choice A.\\n\\nAnswer: A',\n",
       "  'Let’s analyze the context to determine the most likely explanation for the shower curtain effect.\\n\\nThe context describes a phenomenon where water droplets appear to \"bounce\" or \"ripple\" outwards from the edges of a shower curtain. This is often attributed to the pressure differential between the inside and outside of the curtain.\\n\\nNow let’s examine the choices:\\n\\n*   **Choice A) The pressure differential between the inside and outside of the shower:** This is a strong and consistent explanation. The pressure difference creates a force that pushes the water outwards.\\n*   **Choice B) The decrease in velocity resulting in an increase in pressure:** This describes a different phenomenon – a decrease in velocity causing a pressure increase. It doesn’t explain the observed ripple effect.\\n*   **Choice C) The movement of air across the outside surface of the shower curtain:** While air movement *can* contribute to this effect, it’s not the primary explanation.\\n*   **Choice D) The use of cold water:** Cold water doesn’t typically cause this type of ripple.\\n*   **Choice E) Bernoulli’s principle:** Bernoulli’s principle describes fluid flow, but it doesn’t fully explain the observed ripple effect.\\n\\nConsidering the established explanation of pressure differential, the most accurate and widely accepted explanation is that the pressure differential between the inside and outside of the shower curtain causes the water to ripple outwards.\\n\\nAnswer: A',\n",
       "  'The context discusses experiments designed to investigate different mechanisms of chemical reactions. Crossover experiments, as defined in the context, involve crossing over two different types of organisms to create a hybrid. Therefore, the best answer is C.\\n\\nAnswer: C',\n",
       "  \"Let's analyze the context to determine the correct interpretation of supersymmetry in stochastic supersymmetric theory.\\n\\nThe context discusses stochastic supersymmetric theory (SST) and its connection to the induction equation.  SST aims to describe the dynamics of a system where the dynamics are governed by a stochastic process.  The induction equation describes how the system evolves over time.  The key point is that the induction equation itself is a mathematical model, and the interpretation of its parameters is crucial.\\n\\nNow let's evaluate each choice:\\n\\n*   **Choice A) Supersymmetry is a type of hydromagnetic dynamo that arises when the magnetic field becomes strong enough to affect the fluid motions.** This is a plausible interpretation, as SST often involves magnetic fields and fluid dynamics.\\n*   **Choice B) Supersymmetry is a measure of the amplitude of the dynamo in the induction equation of the kinematic approximation.** This is related to the induction equation, but it doesn't directly describe the *interpretation* of the theory.\\n*   **Choice C) Supersymmetry is a measure of the strength of the magnetic field in the induction equation of the kinematic dynamo.** This is a reasonable interpretation, as the induction equation is directly tied to the magnetic field.\\n*   **Choice D) Supersymmetry is a property of deterministic chaos that arises from the continuity of the flow in the model's phase space.** This is a more complex and less directly relevant interpretation.\\n*   **Choice E) Supersymmetry is an intrinsic property of all stochastic differential equations, and it preserves continuity in the model's phase space via continuous time flows.** This is a broader statement about the theory, but it doesn't focus on the specific interpretation of the induction equation.\\n\\nConsidering the context's focus on the induction equation and its role in describing the dynamics of a stochastic system, the most accurate interpretation of supersymmetry in SST is that it represents a measure of the amplitude of the dynamo.\\n\\nAnswer: B\",\n",
       "  \"Let's analyze the context to determine the relevant type of coherence. The Young's double-slit interferometer relies on the interference of light waves. Coherence refers to the degree to which the waves are in phase with each other. The key to this interferometer's operation is the precise control of the phase relationship between the light waves.\\n\\n*   **Coherence time** describes the duration of a single wave cycle.\\n*   **Spatial coherence** refers to the phase relationship between waves propagating in different directions.\\n*   **Visibility** is a measure of how well the waves are aligned, but it doesn't directly relate to the phase relationship crucial for the interferometer.\\n*   **Coherence length** is the distance over which the interference pattern is observed.\\n*   **Diameter of the coherence area (Ac)** is a physical measurement of the area where the interference occurs.\\n\\nThe question asks about the *relevant* type of coherence. The interferometer's operation hinges on the precise phase relationship between the waves, which is directly linked to coherence. Therefore, spatial coherence is the most important factor.\\n\\nAnswer: C\",\n",
       "  'The context describes a system characterized by “time-varying multistability” and “modulation of large-scale processes and aggregated feedback of small-scale processes.” This suggests a dynamic and complex system where small-scale events influence larger patterns. The phrase “time-varying forcing from recurrent seasons” indicates that these large-scale processes are constantly changing, creating feedback loops.  Therefore, the revised view is one that acknowledges these dynamic, interconnected elements rather than simply focusing on large-scale influences.\\n\\nAnswer: B',\n",
       "  'Let\\'s analyze the context to determine the correct answer.\\n\\nThe context describes \"regular polytopes.\"  A regular polytope is a geometric shape with specific properties – it\\'s a polytope that has a defined symmetry group.  The symmetry group is defined by the transitive properties of its diagonals and vertices.\\n\\nNow let\\'s examine the choices:\\n\\n*   **Choice A:** \"A geometric shape whose symmetry group is transitive on its diagonals\" – This is a core definition of a regular polytope.\\n*   **Choice B:** \"A geometric shape whose symmetry group is transitive on its vertices\" – While vertices are part of a polytope, the definition focuses on the *group* of symmetries.\\n*   **Choice C:** \"A geometric shape whose symmetry group is transitive on its flags\" – Flags are not relevant to the definition of a regular polytope.\\n*   **Choice D:** \"A geometric shape whose symmetry group is transitive on its edges\" – Edges are part of a polytope, but the definition emphasizes the symmetry group.\\n*   **Choice E:** \"A geometric shape whose symmetry group is transitive on its faces\" – Faces are not a defining characteristic of a regular polytope.\\n\\nTherefore, the best answer is Choice A.\\n\\nAnswer: A',\n",
       "  'The isophotal diameter is a measurement used to determine the size of a galaxy by analyzing how far light travels through it. It’s a technique that helps astronomers understand the extent of a galaxy’s structure. Therefore, it’s used for measuring a galaxy’s size.\\n\\nAnswer: A',\n",
       "  'The context discusses how physical systems behave and how to quantify those behaviors. The question asks for the definition of an order parameter. Option A, \"An order parameter is a measure of the temperature of a physical system,\" directly aligns with the concept of a parameter that describes the state of a system and its change over time. Options B, C, and D are unrelated to the definition of an order parameter. Option E, while related to symmetry, isn\\'t the primary definition. Therefore, the best answer is A.\\n\\nAnswer: A',\n",
       "  \"The context discusses the factors that influence supernova formation. Supernovae are triggered by the death of massive stars. The key factor is the star’s core collapse, which leads to the explosion. Let’s analyze the choices:\\n\\n*   **Choice A) The star's distance from Earth:** While distance *can* influence the supernova's brightness, it’s not the primary driver of its occurrence.\\n*   **Choice B) The star's age:** Age is a factor, but it doesn’t directly determine the *type* of supernova.\\n*   **Choice C) The star's temperature:** Temperature has a minor influence on the supernova's characteristics, but it’s not the fundamental trigger.\\n*   **Choice D) The star's luminosity:** Luminosity is related to the energy released, but it doesn’t explain *why* a star explodes.\\n*   **Choice E) The progenitor star's metallicity:** Metallicity (the abundance of elements heavier than hydrogen and helium) *does* play a role in the supernova's characteristics, particularly in the formation of certain types of supernovae, but it's not the primary determining factor.\\n\\nConsidering these factors, the most crucial element is the core collapse triggered by the star's mass and the subsequent explosion.\\n\\nAnswer: E\",\n",
       "  \"Let's analyze the context to determine the correct answer.\\n\\nThe context describes formal theories and their purpose. Axioms are fundamental building blocks – they are statements that are assumed to be true without proof. They serve as the foundation for deriving theorems through logical reasoning.  The process of deriving theorems relies on applying rules of inference.\\n\\nNow let's examine the choices:\\n\\n*   **Choice A:** This accurately describes the role of axioms – they form the foundation and guide the derivation of theorems.\\n*   **Choice B:** This suggests axioms are supplementary, which isn't the primary function.\\n*   **Choice C:** This suggests redundancy, which isn't the core purpose of axioms.\\n*   **Choice D:** This relates to experimental validation, which isn't the focus of axioms.\\n*   **Choice E:** This suggests a focus on proving truth regardless of validity, which isn't the primary role of axioms.\\n\\nConsidering all of this, the best answer is **Choice A**.\\n\\nAnswer: A\",\n",
       "  \"The context states that the 'reactive Leidenfrost effect' is observed in non-volatile materials. This directly points to non-volatile materials. Option A accurately describes this phenomenon.\\n\\nAnswer: A\",\n",
       "  'The context states that the SI base unit of time is the second. This is defined by measuring the electronic transition frequency of caesium atoms. Therefore, the correct answer is B.\\nAnswer: B',\n",
       "  'Let\\'s analyze the context to determine the piezoelectric strain coefficient for AT-cut quartz crystals. The context describes piezoelectric properties and mentions \"AT-cut.\"  \"AT-cut\" likely refers to a specific method of polishing that enhances the piezoelectric effect.  The piezoelectric strain coefficient is a fundamental property of crystals that describes their response to mechanical stress.\\n\\nWe need to consider what \"AT-cut\" implies.  It suggests a specific polishing process that alters the crystal\\'s structure, potentially increasing its piezoelectricity.  The piezoelectric strain coefficient is a measure of how much a crystal deforms in response to stress.\\n\\nConsidering the options, the most likely value for the strain coefficient in AT-cut quartz crystals is around 3.1·10⁻¹² m/V. This is a commonly reported value for this material.\\n\\nTherefore, the correct answer is Choice B.\\n\\nAnswer: B',\n",
       "  'The reason behind the designation of Class L dwarfs is that they are identified as such because they are the remaining letter alphabetically after M, and they exhibit characteristics consistent with brown dwarfs – possessing masses large enough to support hydrogen fusion and exhibiting a brown dwarf nature. The context emphasizes their color, spectral properties, and potential for hydrogen fusion, leading us to conclude that Choice A is the most accurate.\\nAnswer: A',\n",
       "  'The context explicitly states that the Landau-Lifshitz-Gilbert equation is used in micromagnetics to model the effects of a magnetic field on ferromagnetic materials. Therefore, the correct answer is Choice A.\\nAnswer: A',\n",
       "  'Let\\'s analyze the context to determine the correct answer.\\n\\nThe context discusses the development of medical knowledge and the contributions of physicians during the Middle Ages. Galen was a prominent figure in ancient medicine, and his work significantly influenced medical understanding for centuries. Avicenna, a Persian physician and philosopher, was a key figure in medieval medicine and compiled a comprehensive medical encyclopedia, the *Canon of Medicine*. Hippocrates, considered the \"father of medicine,\" emphasized observation and ethical practice, and his writings laid the groundwork for medical understanding. Aristotle was a philosopher and scientist, but his contributions were primarily focused on logic and philosophy, not medical practice. Ibn al-Nafis was a physician in the Islamic world, but his work was not widely disseminated during the period of the medieval medical tradition.\\n\\nConsidering this, the most accurate answer is Avicenna. He was a significant medical scholar during the Islamic Golden Age and his work was widely used in Europe.\\n\\nAnswer: B',\n",
       "  'Based on the context, the main focus of the Environmental Science Center at Qatar University is environmental studies, with a primary emphasis on marine science, atmospheric and political sciences.\\n\\nAnswer: A',\n",
       "  'The context discusses alternative theories to dark matter, specifically focusing on how gravity behaves under extreme conditions. Option A directly addresses this by explaining why galaxies don’t appear to obey the current laws of physics.\\n\\nAnswer: A',\n",
       "  \"Let's analyze the context to determine the difference between PMF and PDF. The context discusses how probability distributions are defined and how they relate to the random variables they describe. PMF (Probability Mass Function) describes the probability that a random variable takes on a specific value, while the PDF describes the relative likelihood of a random variable taking on any value within a given range. The context emphasizes that PDFs are used for both continuous and discrete random variables, while PMFs are specifically designed for continuous random variables.\\n\\nTherefore, the correct answer is Choice C) PMF is used for continuous random variables, while PDF is used for discrete random variables.\\n\\nAnswer: C\",\n",
       "  'The context discusses the mathematical framework used in quantum mechanics. The question asks about a Hilbert space. Choice A describes a complex vector space, which is a fundamental concept in quantum mechanics. Choice B is also correct, but it’s a bit too general. Choice C is also correct, but it’s not the most precise definition. Choice D is incorrect as it refers to a classical space. Choice E is also correct, but it’s not the most concise and direct definition of a Hilbert space.\\n\\nTherefore, the most accurate and specific definition of a Hilbert space is that described in Choice A.\\n\\nAnswer: A',\n",
       "  \"Let's analyze the question and the context. The question asks what happens to excess base metal as it cools from the upper transformation temperature towards an insoluble state. The context describes the transformation process – it’s a solid-state change where the excess base metal transforms into a different compound.\\n\\nLooking at the choices, we see that the transformation process involves a change from a molten state to a crystalline state.  Choice A, B, C, and D all describe crystallization, which is precisely what happens. Choice E describes evaporation, which is irrelevant to this transformation.\\n\\nTherefore, the most accurate description of what happens is crystallization.\\n\\nAnswer: A\",\n",
       "  'The question asks for the definition of the spin quantum number. The context describes it as a measure of the distance between an elementary particle and the nucleus of an atom. This aligns with the definition of the spin quantum number – it describes the intrinsic angular momentum of an electron or other particle.\\n\\nAnswer: A',\n",
       "  'The context discusses the decay energy of free neutrons. The decay energy is a fundamental property of the process and is a key value to consider.  The question asks for the decay energy.  Looking at the options, 0.782 MeV is the closest to the accepted value for the decay energy of a free neutron.\\n\\nAnswer: C',\n",
       "  \"Let's analyze the context to determine the number of crystallographic point groups. The context describes the study of crystal symmetry and point groups. Point groups are fundamental to understanding the structure and properties of crystals.\\n\\nThe context mentions that the number of point groups in three-dimensional space is 14.\\n\\nTherefore, the correct answer is 14.\\n\\nAnswer: C\",\n",
       "  \"Let's analyze the context to determine the correct answer.\\n\\nThe question asks about the relation between the three moment theorem and bending moments at three successive supports of a continuous beam. The three moment theorem is fundamentally about calculating the bending moment at any point on a beam. The bending moments at three successive supports are directly related to the overall bending moment of the beam, which is determined by the distribution of loads across the beam's span.\\n\\nNow let's evaluate the choices:\\n\\n*   **Choice A:** This describes the application of the three moment theorem to calculate deflection, which is not the primary focus of the question.\\n*   **Choice B:** This focuses on maximum allowable bending moments, which is related to the weight distribution, but doesn't directly address the relationship between successive supports.\\n*   **Choice C:** This accurately describes the relationship – the bending moments at three successive supports are determined by the distribution of loads across the beam's span.\\n*   **Choice D:** This relates to Mohr's theorem, which is a separate concept.\\n*   **Choice E:** This discusses the change in slope, which is a related concept but not the core of the question.\\n\\nTherefore, the best answer is C.\\n\\nAnswer: C\",\n",
       "  \"Let's analyze the context to determine the correct answer.\\n\\nThe context describes the fibrous cardiac skeleton as being crucial for the heart’s function. It’s a structure that supports and protects the heart.\\n\\nNow let’s examine the choices:\\n\\n*   **Choice A:** This describes the function of blood vessels, which is not the primary role of the fibrous cardiac skeleton.\\n*   **Choice B:** This accurately describes the pumping action of the heart – regulating blood flow through the atria and ventricles.\\n*   **Choice C:** This describes the structure of the heart, including the atrioventricular septum and fibrous rings.\\n*   **Choice D:** This describes nerves, not the heart.\\n*   **Choice E:** This describes a protective layer, not the core function of the fibrous cardiac skeleton.\\n\\nConsidering the primary function of the fibrous cardiac skeleton – supporting and protecting the heart – **Choice B** is the most accurate and complete description.\\n\\nAnswer: B\",\n",
       "  'The context discusses the reciprocal length or inverse length being used in various scientific and mathematical fields. Choice A directly describes the definition of reciprocal length or inverse length as a measurement used in physics and chemistry, including units like the reciprocal second and inverse second.\\n\\nAnswer: A',\n",
       "  \"Let's analyze the context to determine the correct answer.\\n\\nThe context describes Fischer-Tropsch processes as utilizing coal or natural gas to produce synthetic fuels. Methane is a key component in these processes, primarily as a reactant. It’s involved in the conversion of carbon monoxide into hydrocarbons, which are then used to create the fuel.\\n\\nConsidering this, Choice A – methane being partially converted to carbon monoxide for utilization – directly aligns with the process's mechanism.\\n\\nTherefore, the correct answer is A.\\n\\nAnswer: A\",\n",
       "  \"The question asks about the formalism associated with rotational invariance. Angular momentum is fundamentally linked to rotational symmetry. Noether's theorem states that for every continuous symmetry in a physical system, there exists a conserved quantity. In the context of rotational invariance, this means that the laws of physics should remain unchanged under rotations. The 1-form, 3-form, 5-form, and 2-form are all related to the conservation of angular momentum. Since rotational invariance implies a lack of change under rotations, the 1-form is the most directly relevant.\\n\\nAnswer: A\"],\n",
       " 0.34)"
      ]
     },
     "execution_count": 12,
     "metadata": {},
     "output_type": "execute_result"
    }
   ],
   "source": [
    "answer_list, model_responses, accuracy = evaluate_ollama_model(model_name=\"gemma3:1b\", dataset_file=\"data/train_data.csv\", num_questions=-1)\n",
    "print(f\"answer_list: {answer_list}\")\n",
    "print(f\"model_responses: {model_responses}\")\n",
    "print(f\"accuracy: {accuracy}\")"
   ]
  },
  {
   "cell_type": "markdown",
   "id": "657f3d3c",
   "metadata": {},
   "source": [
    "old prompt with gemma3:1b -> 34% accuracy"
   ]
  },
  {
   "cell_type": "code",
   "execution_count": 13,
   "id": "3f0cc334",
   "metadata": {},
   "outputs": [],
   "source": [
    "gemma_results = ['C',\n",
    "  'D',\n",
    "  'A',\n",
    "  'A',\n",
    "  'B',\n",
    "  'E',\n",
    "  'C',\n",
    "  'D',\n",
    "  'A',\n",
    "  'A',\n",
    "  'A',\n",
    "  'A',\n",
    "  'A',\n",
    "  'C',\n",
    "  'A',\n",
    "  'B',\n",
    "  'C',\n",
    "  'A',\n",
    "  'B',\n",
    "  'A',\n",
    "  'A',\n",
    "  'A',\n",
    "  'C',\n",
    "  'B',\n",
    "  'C',\n",
    "  'B',\n",
    "  'A',\n",
    "  'A',\n",
    "  'A',\n",
    "  'E',\n",
    "  'A',\n",
    "  'A',\n",
    "  'B',\n",
    "  'B',\n",
    "  'A',\n",
    "  'A',\n",
    "  'B',\n",
    "  'A',\n",
    "  'A',\n",
    "  'C',\n",
    "  'A',\n",
    "  'A',\n",
    "  'A',\n",
    "  'C',\n",
    "  'C',\n",
    "  'C',\n",
    "  'B',\n",
    "  'A',\n",
    "  'A',\n",
    "  'A']"
   ]
  },
  {
   "cell_type": "code",
   "execution_count": 16,
   "id": "aec6b958",
   "metadata": {},
   "outputs": [
    {
     "name": "stdout",
     "output_type": "stream",
     "text": [
      "Gemma answer frequency:\n",
      "A: 27\n",
      "B: 9\n",
      "C: 10\n",
      "D: 2\n",
      "E: 2\n",
      "Correct answer frequency:\n",
      "A: 7\n",
      "B: 13\n",
      "C: 11\n",
      "D: 7\n",
      "E: 12\n"
     ]
    }
   ],
   "source": [
    "from collections import Counter\n",
    "from typing import List\n",
    "def analyze_choice_frequency(answer_list: List[str]) -> None:\n",
    "    '''Analyzes the frequency of choices in the answer_list.\n",
    "\n",
    "    Args:\n",
    "        answer_list (List[str]): The list of answers.\n",
    "    '''\n",
    "\n",
    "    choices = ['A', 'B', 'C', 'D', 'E']\n",
    "    choice_frequency = Counter(answer_list)\n",
    "\n",
    "    for choice in choices:\n",
    "        print(f\"{choice}: {choice_frequency[choice]}\")\n",
    "\n",
    "print(\"Gemma answer frequency:\")\n",
    "analyze_choice_frequency(gemma_results)\n",
    "print(\"Correct answer frequency:\")\n",
    "analyze_choice_frequency(correct_answers)"
   ]
  }
 ],
 "metadata": {
  "kernelspec": {
   "display_name": "Python 3",
   "language": "python",
   "name": "python3"
  },
  "language_info": {
   "codemirror_mode": {
    "name": "ipython",
    "version": 3
   },
   "file_extension": ".py",
   "mimetype": "text/x-python",
   "name": "python",
   "nbconvert_exporter": "python",
   "pygments_lexer": "ipython3",
   "version": "3.13.2"
  }
 },
 "nbformat": 4,
 "nbformat_minor": 5
}
