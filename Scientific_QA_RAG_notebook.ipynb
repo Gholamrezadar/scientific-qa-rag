{
  "nbformat": 4,
  "nbformat_minor": 0,
  "metadata": {
    "colab": {
      "provenance": [],
      "gpuType": "T4"
    },
    "kernelspec": {
      "name": "python3",
      "display_name": "Python 3"
    },
    "language_info": {
      "name": "python"
    },
    "accelerator": "GPU"
  },
  "cells": [
    {
      "cell_type": "code",
      "execution_count": 1,
      "metadata": {
        "id": "nwSY8c6HxE6F"
      },
      "outputs": [],
      "source": [
        "%%capture\n",
        "!curl -fsSL https://ollama.com/install.sh | sh"
      ]
    },
    {
      "cell_type": "code",
      "source": [
        "!nohup ollama serve &"
      ],
      "metadata": {
        "colab": {
          "base_uri": "https://localhost:8080/"
        },
        "id": "vMm1i0gtxKQd",
        "outputId": "7b9dd4b0-cb9a-4688-e567-37907ef8561f"
      },
      "execution_count": 2,
      "outputs": [
        {
          "output_type": "stream",
          "name": "stdout",
          "text": [
            "nohup: appending output to 'nohup.out'\n"
          ]
        }
      ]
    },
    {
      "cell_type": "code",
      "source": [
        "%%capture\n",
        "!ollama pull gemma3:1b\n",
        "!ollama pull gemma3:12b-it-qat\n",
        "!ollama pull nomic-embed-text"
      ],
      "metadata": {
        "id": "3JGpLNeJ7vaP"
      },
      "execution_count": 3,
      "outputs": []
    },
    {
      "cell_type": "code",
      "source": [
        "!ollama list"
      ],
      "metadata": {
        "id": "JaozLFnMArFG",
        "outputId": "6c9ee293-93fc-4432-c3de-e9a0df0791f3",
        "colab": {
          "base_uri": "https://localhost:8080/"
        }
      },
      "execution_count": 14,
      "outputs": [
        {
          "output_type": "stream",
          "name": "stdout",
          "text": [
            "NAME                       ID              SIZE      MODIFIED      \n",
            "nomic-embed-text:latest    0a109f422b47    274 MB    6 minutes ago    \n",
            "gemma3:12b-it-qat          5d4fa005e7bb    8.9 GB    7 minutes ago    \n",
            "gemma3:1b                  8648f39daa8f    815 MB    8 minutes ago    \n"
          ]
        }
      ]
    },
    {
      "cell_type": "code",
      "source": [
        "%cd /content"
      ],
      "metadata": {
        "colab": {
          "base_uri": "https://localhost:8080/"
        },
        "id": "P_YaCsqt1Snl",
        "outputId": "63e43142-1cff-4486-a3d2-48da2d4309cb"
      },
      "execution_count": 4,
      "outputs": [
        {
          "output_type": "stream",
          "name": "stdout",
          "text": [
            "/content\n"
          ]
        }
      ]
    },
    {
      "cell_type": "code",
      "source": [
        "!git clone https://github.com/Gholamrezadar/scientific-qa-rag.git"
      ],
      "metadata": {
        "colab": {
          "base_uri": "https://localhost:8080/"
        },
        "id": "7Y0uxzlTxU5z",
        "outputId": "e7b670da-ae79-48be-d1a7-cad596623f08"
      },
      "execution_count": 5,
      "outputs": [
        {
          "output_type": "stream",
          "name": "stdout",
          "text": [
            "Cloning into 'scientific-qa-rag'...\n",
            "remote: Enumerating objects: 344, done.\u001b[K\n",
            "remote: Counting objects: 100% (52/52), done.\u001b[K\n",
            "remote: Compressing objects: 100% (37/37), done.\u001b[K\n",
            "remote: Total 344 (delta 19), reused 43 (delta 12), pack-reused 292 (from 1)\u001b[K\n",
            "Receiving objects: 100% (344/344), 2.44 MiB | 5.76 MiB/s, done.\n",
            "Resolving deltas: 100% (171/171), done.\n"
          ]
        }
      ]
    },
    {
      "cell_type": "code",
      "source": [
        "%cd /content/scientific-qa-rag"
      ],
      "metadata": {
        "colab": {
          "base_uri": "https://localhost:8080/"
        },
        "id": "qMkJFPW8xya9",
        "outputId": "914430b0-9918-487c-9c23-5dbe5dbcddfb"
      },
      "execution_count": 6,
      "outputs": [
        {
          "output_type": "stream",
          "name": "stdout",
          "text": [
            "/content/scientific-qa-rag\n"
          ]
        }
      ]
    },
    {
      "cell_type": "code",
      "source": [
        "%ls"
      ],
      "metadata": {
        "colab": {
          "base_uri": "https://localhost:8080/"
        },
        "id": "3jT1brk8h8LH",
        "outputId": "af8024b1-3ea5-4a05-990b-2e455ef7c9b3"
      },
      "execution_count": 7,
      "outputs": [
        {
          "output_type": "stream",
          "name": "stdout",
          "text": [
            "chroma_test.py          FUTURE.md            README.md\n",
            "\u001b[0m\u001b[01;34mdata\u001b[0m/                   gemma3_1b_ypred.txt  requirements.txt\n",
            "\u001b[01;34mdemos\u001b[0m/                  keyword_manual.txt   \u001b[01;34msearch_results\u001b[0m/\n",
            "\u001b[01;34mdiagrams\u001b[0m/               phi_results          \u001b[01;34msrc\u001b[0m/\n",
            "evaluate_chatgpt.ipynb  playground.ipynb     testing_keywords.ipynb\n",
            "evaluate_gemma.py       PROMPTS.md           TODO.md\n",
            "evaluate_ollama.ipynb   qa_rag.py\n"
          ]
        }
      ]
    },
    {
      "cell_type": "code",
      "source": [
        "%%capture\n",
        "!pip install langchain_community langchain_chroma langchain_ollama chromadb"
      ],
      "metadata": {
        "id": "xLvjYfCUijpf"
      },
      "execution_count": 8,
      "outputs": []
    },
    {
      "cell_type": "code",
      "source": [
        "%pwd"
      ],
      "metadata": {
        "colab": {
          "base_uri": "https://localhost:8080/",
          "height": 35
        },
        "id": "LMizQ1FdlKPw",
        "outputId": "6fe7b299-4ffa-4e5a-cc62-4e9f702617c3"
      },
      "execution_count": 10,
      "outputs": [
        {
          "output_type": "execute_result",
          "data": {
            "text/plain": [
              "'/content/scientific-qa-rag'"
            ],
            "application/vnd.google.colaboratory.intrinsic+json": {
              "type": "string"
            }
          },
          "metadata": {},
          "execution_count": 10
        }
      ]
    },
    {
      "cell_type": "code",
      "source": [
        "!rm -rf ./rag_db"
      ],
      "metadata": {
        "id": "8MxvAAPqs3jj"
      },
      "execution_count": 18,
      "outputs": []
    },
    {
      "cell_type": "code",
      "source": [
        "!python qa_rag.py --kw-model \"gemma3:12b-it-qat\" --answer-model \"gemma3:12b-it-qat\" --dataset ./data/train_data.csv --num-samples 50 --chunk-size 10000 --load-kw"
      ],
      "metadata": {
        "colab": {
          "base_uri": "https://localhost:8080/"
        },
        "id": "YCxLLEwEYNcu",
        "outputId": "694a2828-8f3f-41ad-fd2d-4afefab706b7"
      },
      "execution_count": 16,
      "outputs": [
        {
          "output_type": "stream",
          "name": "stdout",
          "text": [
            "Initializing Langchain...\n",
            "Initializing Chroma DB...\n",
            "2025-05-08 13:10:02,433 - Loading dataset...\n",
            "2025-05-08 13:10:02,438 - Loaded 50 questions\n",
            "\n",
            "2025-05-08 13:10:02,438 - Creating keyword prompts from questions...\n",
            "2025-05-08 13:10:02,441 - Successfully created 50 keyword prompts\n",
            "\n",
            "2025-05-08 13:10:02,441 - Loading keywords from file...\n",
            "2025-05-08 13:10:02,441 - Successfully loaded keywords for 50 questions\n",
            "\n",
            "2025-05-08 13:10:02,442 - Downloading docs for each kw from wikipedia...\n",
            "-- Skipping `Main_sequence` because it already exists.\n",
            "-- Skipping `Ultraviolet_catastrophe` because it already exists.\n",
            "-- Skipping `Carnot_heat_engine` because it already exists.\n",
            "-- Skipping `Heavy_ion_fusion` because it already exists.\n",
            "-- Skipping `Coffee_ring_effect` because it already exists.\n",
            "-- Skipping `Hydraulic_shock` because it already exists.\n",
            "-- Skipping `Memristor` because it already exists.\n",
            "-- Skipping `Fermi_level` because it already exists.\n",
            "-- Skipping `Illuminance` because it already exists.\n",
            "-- Skipping `Classical_mechanics` because it already exists.\n",
            "-- Skipping `Peierls_bracket` because it already exists.\n",
            "-- Skipping `Cosmic_inflation` because it already exists.\n",
            "-- Skipping `Frame-dragging` because it already exists.\n",
            "-- Skipping `The_Ambidextrous_Universe` because it already exists.\n",
            "-- Skipping `Thylakoid` because it already exists.\n",
            "-- Skipping `Coordinated_universal_time` because it already exists.\n",
            "-- Skipping `Planetary_system` because it already exists.\n",
            "-- Skipping `Quark` because it already exists.\n",
            "-- Skipping `Star_formation` because it already exists.\n",
            "-- Skipping `Maxwell's_demon` because it already exists.\n",
            "-- Skipping `Crystallinity` because it already exists.\n",
            "-- Skipping `Shower-curtain_effect` because it already exists.\n",
            "-- Skipping `Crossover_experiment_(chemistry)` because it already exists.\n",
            "-- Skipping `Supersymmetric_theory_of_stochastic_dynamics` because it already exists.\n",
            "-- Skipping `Young's_interference_experiment` because it already exists.\n",
            "-- Skipping `Butterfly_effect` because it already exists.\n",
            "-- Skipping `Regular_polytope` because it already exists.\n",
            "-- Skipping `Galaxy` because it already exists.\n",
            "-- Skipping `Phase_transition` because it already exists.\n",
            "-- Skipping `Supernova` because it already exists.\n",
            "-- Skipping `Formal_theory` because it already exists.\n",
            "-- Skipping `Leidenfrost_effect` because it already exists.\n",
            "-- Skipping `International_System_of_Units` because it already exists.\n",
            "-- Skipping `Piezoelectric_coefficient` because it already exists.\n",
            "-- Skipping `L_dwarf` because it already exists.\n",
            "-- Skipping `Landau–Lifshitz–Gilbert_equation` because it already exists.\n",
            "-- Skipping `Pulmonary_circulation` because it already exists.\n",
            "-- Skipping `Environmental_Science_Center` because it already exists.\n",
            "-- Skipping `Modified_Newtonian_dynamics` because it already exists.\n",
            "-- Skipping `Probability_density_function` because it already exists.\n",
            "-- Skipping `Hilbert_space` because it already exists.\n",
            "-- Skipping `Heat_treating` because it already exists.\n",
            "-- Skipping `Spin_quantum_number` because it already exists.\n",
            "-- Skipping `Free_neutron_decay` because it already exists.\n",
            "-- Skipping `Crystallographic_point_group` because it already exists.\n",
            "-- Skipping `Theorem_of_three_moments` because it already exists.\n",
            "-- Skipping `Cardiac_skeleton` because it already exists.\n",
            "-- Skipping `Reciprocal_length` because it already exists.\n",
            "-- Skipping `Fischer–Tropsch_process` because it already exists.\n",
            "-- Skipping `Rotational_invariance` because it already exists.\n",
            "2025-05-08 13:10:02,443 - Successfully downloaded docs for 50 questions\n",
            "\n",
            "2025-05-08 13:10:02,443 - Chunking docs and storing them in vector db...\n",
            "2025-05-08 13:10:15,666 - Successfully chunked docs and stored them in vector db for\n",
            "\n",
            "2025-05-08 13:10:15,666 - Retrieving relevant context for each question(total: 50)...\n",
            "2025-05-08 13:10:17,071 - Successfully retrieved relevant context for 50 questions\n",
            "\n",
            "2025-05-08 13:10:17,071 - Limiting context length to 5000 characters...\n",
            "2025-05-08 13:10:17,071 - Successfully limited context length for 50 questions\n",
            "\n",
            "2025-05-08 13:10:17,071 - Creating answering prompts...\n",
            "2025-05-08 13:10:17,081 - Successfully created 50 answering prompts\n",
            "2025-05-08 13:10:17,082 - Saved answer prompts to \"data/prompts/gemma3_12b-it-qat_prompts.txt\"\n",
            "\n",
            "2025-05-08 13:10:17,082 - Generating answers for 50 prompts...\n",
            "100% 50/50 [18:56<00:00, 22.74s/it]\n",
            "2025-05-08 13:29:14,035 - Successfully generated 50 answers\n",
            "2025-05-08 13:29:14,035 - Saved responses to data/responses/gemma3_12b-it-qat_responses.txt\n",
            "\n",
            "2025-05-08 13:29:14,036 - Extracting choices from raw responses...\n",
            "bad response! e\n",
            "Y_pred: ['C', 'D', 'B', 'A', 'E', 'E', 'D', 'B', 'B', 'A', 'C', 'A', 'C', 'C', 'C', 'D', 'C', 'A', 'B', 'A', 'E', 'E', 'B', 'E', 'C', 'B', 'B', 'E', 'D', 'E', 'A', 'A', 'B', 'B', 'B', 'C', 'C', 'D', 'C', 'D', 'E', 'B', 'E', 'E', 'B', 'C', 'C', 'E', 'A', 'A']\n",
            "Y_true: ['C', 'B', 'B', 'A', 'E', 'E', 'D', 'B', 'B', 'A', 'C', 'A', 'D', 'C', 'C', 'D', 'C', 'A', 'B', 'C', 'B', 'E', 'B', 'E', 'E', 'B', 'C', 'E', 'D', 'E', 'A', 'A', 'B', 'B', 'B', 'C', 'E', 'D', 'C', 'D', 'E', 'B', 'E', 'E', 'B', 'C', 'C', 'E', 'A', 'D']\n",
            "2025-05-08 13:29:14,036 - Successfully extracted choices for 50 responses\n",
            "2025-05-08 13:29:14,040 - Wrote prediction choices to gemma3_12b-it-qat_ypred.txt\n",
            "\n",
            "Accuracy for gemma3:12b-it-qat: 0.84\n",
            "\n"
          ]
        }
      ]
    }
  ]
}