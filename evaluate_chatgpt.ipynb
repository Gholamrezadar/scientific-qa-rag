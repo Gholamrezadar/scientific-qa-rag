{
 "cells": [
  {
   "cell_type": "markdown",
   "id": "d15d4f02",
   "metadata": {},
   "source": [
    "# Evaluate ChatGPT\n",
    "\n",
    "Manually evaluate ChatGPT on the dataset.\n"
   ]
  },
  {
   "cell_type": "markdown",
   "id": "dae041a2",
   "metadata": {},
   "source": [
    "## Without Context"
   ]
  },
  {
   "cell_type": "code",
   "execution_count": null,
   "id": "87fbbf54",
   "metadata": {},
   "outputs": [],
   "source": [
    "# Create prompts based on train set\n",
    "from src.utils import save_prompts_to_file\n",
    "\n",
    "# save_prompts_to_file('data/train_data.csv', 'data/train_prompts_no_context.txt')\n"
   ]
  },
  {
   "cell_type": "code",
   "execution_count": null,
   "id": "56a70cfe",
   "metadata": {},
   "outputs": [],
   "source": [
    "# next question is UTC vs UT1\n",
    "chatgpt_answers = ['C', 'D', 'B', 'C', 'E', 'E', 'D', 'B', 'B', 'A', 'C', 'A', 'D', 'C', 'C', 'D', 'C', 'A', 'B', 'C', 'B', 'E', 'B', 'E', 'C', 'B', 'C', 'E', 'D', 'B', 'A', 'A', 'B', 'D', 'B',]\n",
    "correct_answers = ['C', 'B', 'B', 'A', 'E', 'E', 'D', 'B', 'B', 'A', 'C', 'A', 'D', 'C', 'C', 'D', 'C', 'A', 'B', 'C', 'B', 'E', 'B', 'E', 'E', 'B', 'C', 'E', 'D', 'E', 'A', 'A', 'B', 'B', 'B', 'C', 'E', 'D', 'C', 'D', 'E', 'B', 'E', 'E', 'B', 'C', 'C', 'E', 'A', 'D']\n",
    "#                        x         x                                                                                                        x                        x                   x"
   ]
  },
  {
   "cell_type": "code",
   "execution_count": 9,
   "id": "99f62e90",
   "metadata": {},
   "outputs": [
    {
     "data": {
      "text/plain": [
       "0.8666666666666667"
      ]
     },
     "execution_count": 9,
     "metadata": {},
     "output_type": "execute_result"
    }
   ],
   "source": [
    "from src.eval import evaluate_answer_list\n",
    "\n",
    "evaluate_answer_list(chatgpt_answers, correct_answers)"
   ]
  },
  {
   "cell_type": "markdown",
   "id": "91958190",
   "metadata": {},
   "source": [
    "## With Context"
   ]
  },
  {
   "cell_type": "code",
   "execution_count": null,
   "id": "fdba47b4",
   "metadata": {},
   "outputs": [],
   "source": []
  }
 ],
 "metadata": {
  "kernelspec": {
   "display_name": "Python 3",
   "language": "python",
   "name": "python3"
  },
  "language_info": {
   "codemirror_mode": {
    "name": "ipython",
    "version": 3
   },
   "file_extension": ".py",
   "mimetype": "text/x-python",
   "name": "python",
   "nbconvert_exporter": "python",
   "pygments_lexer": "ipython3",
   "version": "3.13.2"
  }
 },
 "nbformat": 4,
 "nbformat_minor": 5
}
